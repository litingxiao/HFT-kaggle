{
 "cells": [
  {
   "cell_type": "markdown",
   "metadata": {},
   "source": [
    "# Project 1 - High Frequency Price Prediction\n",
    "Author: Liting Xiao"
   ]
  },
  {
   "cell_type": "code",
   "execution_count": 1,
   "metadata": {},
   "outputs": [],
   "source": [
    "import numpy as np\n",
    "import pandas as pd\n",
    "import matplotlib\n",
    "import matplotlib.pyplot as plt\n",
    "matplotlib.rcParams.update({'font.size': 12})\n",
    "\n",
    "from sklearn import svm\n",
    "from sklearn.model_selection import train_test_split\n",
    "from sklearn.metrics import roc_auc_score, mean_squared_error, r2_score\n",
    "from sklearn.preprocessing import MinMaxScaler\n",
    "from sklearn.linear_model import Ridge, Lasso, LogisticRegression"
   ]
  },
  {
   "cell_type": "code",
   "execution_count": 2,
   "metadata": {},
   "outputs": [],
   "source": [
    "def train_val_plot(xaxis, train, val, title, savefig=False, figname=None):\n",
    "    plt.plot(xaxis, train, label='Training')\n",
    "    plt.plot(xaxis, val, label='Validation')\n",
    "    plt.xlabel('Regularization strength')\n",
    "    plt.ylabel(title)\n",
    "    plt.legend()\n",
    "    if savefig:\n",
    "        plt.savefig(figname)\n",
    "    plt.show()"
   ]
  },
  {
   "cell_type": "code",
   "execution_count": 3,
   "metadata": {},
   "outputs": [],
   "source": [
    "def sigmoid(x):\n",
    "    return 1 / (1 + np.exp(-x))"
   ]
  },
  {
   "cell_type": "markdown",
   "metadata": {},
   "source": [
    "## Data Processing"
   ]
  },
  {
   "cell_type": "code",
   "execution_count": 4,
   "metadata": {},
   "outputs": [],
   "source": [
    "train = pd.read_csv('data/train.csv')\n",
    "test = pd.read_csv('data/test.csv')"
   ]
  },
  {
   "cell_type": "code",
   "execution_count": 5,
   "metadata": {},
   "outputs": [],
   "source": [
    "def preprocess(data):\n",
    "    # fill NaN\n",
    "    data['opened_position_qty '].fillna(np.floor(data['transacted_qty']/2), inplace = True)\n",
    "    data['closed_position_qty'].fillna(np.ceil(data['transacted_qty']/2), inplace = True)\n",
    "    \n",
    "    # add some features\n",
    "    data['diff'] = data['ask1'] - data['bid1']\n",
    "    data['diff_vol'] = data['bid1vol'] - data['ask1vol']\n",
    "    data['pot_vol'] = data['bid1vol'] + data['ask1vol']\n",
    "    \n",
    "    data['frac_price'] = data['last_price'] / data['mid']\n",
    "\n",
    "    data['ask_spread'] = data['ask1'] / data['ask5']\n",
    "    #data['ask_vol_spread'] = data[{'ask1vol','ask2vol','ask3vol','ask4vol','ask5vol'}].min().div(data[{'ask1vol','ask2vol','ask3vol','ask4vol','ask5vol'}].max())\n",
    "    data['bid_spread'] = data['bid1'] / data['bid5']\n",
    "    #data['bid_vol_spread'] = data[{'bid1vol','bid2vol','bid3vol','bid4vol','bid5vol'}].min().div(data[{'bid1vol','bid2vol','bid3vol','bid4vol','bid5vol'}].max())\n",
    "    return data"
   ]
  },
  {
   "cell_type": "code",
   "execution_count": 6,
   "metadata": {},
   "outputs": [],
   "source": [
    "train = preprocess(train)\n",
    "test = preprocess(test)"
   ]
  },
  {
   "cell_type": "code",
   "execution_count": 7,
   "metadata": {
    "scrolled": true
   },
   "outputs": [
    {
     "data": {
      "text/html": [
       "<div>\n",
       "<style scoped>\n",
       "    .dataframe tbody tr th:only-of-type {\n",
       "        vertical-align: middle;\n",
       "    }\n",
       "\n",
       "    .dataframe tbody tr th {\n",
       "        vertical-align: top;\n",
       "    }\n",
       "\n",
       "    .dataframe thead th {\n",
       "        text-align: right;\n",
       "    }\n",
       "</style>\n",
       "<table border=\"1\" class=\"dataframe\">\n",
       "  <thead>\n",
       "    <tr style=\"text-align: right;\">\n",
       "      <th></th>\n",
       "      <th>id</th>\n",
       "      <th>last_price</th>\n",
       "      <th>mid</th>\n",
       "      <th>opened_position_qty</th>\n",
       "      <th>closed_position_qty</th>\n",
       "      <th>transacted_qty</th>\n",
       "      <th>d_open_interest</th>\n",
       "      <th>bid1</th>\n",
       "      <th>bid2</th>\n",
       "      <th>bid3</th>\n",
       "      <th>...</th>\n",
       "      <th>ask2vol</th>\n",
       "      <th>ask3vol</th>\n",
       "      <th>ask4vol</th>\n",
       "      <th>ask5vol</th>\n",
       "      <th>diff</th>\n",
       "      <th>diff_vol</th>\n",
       "      <th>pot_vol</th>\n",
       "      <th>frac_price</th>\n",
       "      <th>ask_spread</th>\n",
       "      <th>bid_spread</th>\n",
       "    </tr>\n",
       "  </thead>\n",
       "  <tbody>\n",
       "    <tr>\n",
       "      <th>0</th>\n",
       "      <td>592380</td>\n",
       "      <td>5178.4</td>\n",
       "      <td>5178.3</td>\n",
       "      <td>1.0</td>\n",
       "      <td>11.0</td>\n",
       "      <td>12.0</td>\n",
       "      <td>-10</td>\n",
       "      <td>5178.2</td>\n",
       "      <td>5178.0</td>\n",
       "      <td>5177.8</td>\n",
       "      <td>...</td>\n",
       "      <td>4</td>\n",
       "      <td>1</td>\n",
       "      <td>5</td>\n",
       "      <td>2</td>\n",
       "      <td>0.2</td>\n",
       "      <td>2</td>\n",
       "      <td>4</td>\n",
       "      <td>1.000019</td>\n",
       "      <td>0.999730</td>\n",
       "      <td>1.000155</td>\n",
       "    </tr>\n",
       "    <tr>\n",
       "      <th>1</th>\n",
       "      <td>592381</td>\n",
       "      <td>5133.0</td>\n",
       "      <td>5132.9</td>\n",
       "      <td>1.0</td>\n",
       "      <td>0.0</td>\n",
       "      <td>1.0</td>\n",
       "      <td>1</td>\n",
       "      <td>5132.8</td>\n",
       "      <td>5132.6</td>\n",
       "      <td>5132.4</td>\n",
       "      <td>...</td>\n",
       "      <td>8</td>\n",
       "      <td>1</td>\n",
       "      <td>1</td>\n",
       "      <td>1</td>\n",
       "      <td>0.2</td>\n",
       "      <td>-3</td>\n",
       "      <td>5</td>\n",
       "      <td>1.000019</td>\n",
       "      <td>0.999766</td>\n",
       "      <td>1.000156</td>\n",
       "    </tr>\n",
       "    <tr>\n",
       "      <th>2</th>\n",
       "      <td>592382</td>\n",
       "      <td>5177.4</td>\n",
       "      <td>5178.0</td>\n",
       "      <td>2.0</td>\n",
       "      <td>0.0</td>\n",
       "      <td>2.0</td>\n",
       "      <td>2</td>\n",
       "      <td>5177.2</td>\n",
       "      <td>5176.8</td>\n",
       "      <td>5176.6</td>\n",
       "      <td>...</td>\n",
       "      <td>4</td>\n",
       "      <td>1</td>\n",
       "      <td>2</td>\n",
       "      <td>5</td>\n",
       "      <td>1.6</td>\n",
       "      <td>1</td>\n",
       "      <td>15</td>\n",
       "      <td>0.999884</td>\n",
       "      <td>0.999846</td>\n",
       "      <td>1.000232</td>\n",
       "    </tr>\n",
       "    <tr>\n",
       "      <th>3</th>\n",
       "      <td>592383</td>\n",
       "      <td>5093.6</td>\n",
       "      <td>5093.9</td>\n",
       "      <td>0.0</td>\n",
       "      <td>2.0</td>\n",
       "      <td>2.0</td>\n",
       "      <td>-1</td>\n",
       "      <td>5093.2</td>\n",
       "      <td>5093.0</td>\n",
       "      <td>5092.8</td>\n",
       "      <td>...</td>\n",
       "      <td>1</td>\n",
       "      <td>11</td>\n",
       "      <td>6</td>\n",
       "      <td>2</td>\n",
       "      <td>1.4</td>\n",
       "      <td>7</td>\n",
       "      <td>9</td>\n",
       "      <td>0.999941</td>\n",
       "      <td>0.999843</td>\n",
       "      <td>1.000236</td>\n",
       "    </tr>\n",
       "    <tr>\n",
       "      <th>4</th>\n",
       "      <td>592384</td>\n",
       "      <td>5189.2</td>\n",
       "      <td>5189.2</td>\n",
       "      <td>0.0</td>\n",
       "      <td>0.0</td>\n",
       "      <td>0.0</td>\n",
       "      <td>0</td>\n",
       "      <td>5188.8</td>\n",
       "      <td>5188.6</td>\n",
       "      <td>5188.4</td>\n",
       "      <td>...</td>\n",
       "      <td>2</td>\n",
       "      <td>1</td>\n",
       "      <td>3</td>\n",
       "      <td>4</td>\n",
       "      <td>0.8</td>\n",
       "      <td>-2</td>\n",
       "      <td>4</td>\n",
       "      <td>1.000000</td>\n",
       "      <td>0.999692</td>\n",
       "      <td>1.000154</td>\n",
       "    </tr>\n",
       "  </tbody>\n",
       "</table>\n",
       "<p>5 rows × 33 columns</p>\n",
       "</div>"
      ],
      "text/plain": [
       "       id  last_price     mid  opened_position_qty   closed_position_qty  \\\n",
       "0  592380      5178.4  5178.3                   1.0                 11.0   \n",
       "1  592381      5133.0  5132.9                   1.0                  0.0   \n",
       "2  592382      5177.4  5178.0                   2.0                  0.0   \n",
       "3  592383      5093.6  5093.9                   0.0                  2.0   \n",
       "4  592384      5189.2  5189.2                   0.0                  0.0   \n",
       "\n",
       "   transacted_qty  d_open_interest    bid1    bid2    bid3  ...  ask2vol  \\\n",
       "0            12.0              -10  5178.2  5178.0  5177.8  ...        4   \n",
       "1             1.0                1  5132.8  5132.6  5132.4  ...        8   \n",
       "2             2.0                2  5177.2  5176.8  5176.6  ...        4   \n",
       "3             2.0               -1  5093.2  5093.0  5092.8  ...        1   \n",
       "4             0.0                0  5188.8  5188.6  5188.4  ...        2   \n",
       "\n",
       "   ask3vol  ask4vol  ask5vol  diff  diff_vol  pot_vol  frac_price  ask_spread  \\\n",
       "0        1        5        2   0.2         2        4    1.000019    0.999730   \n",
       "1        1        1        1   0.2        -3        5    1.000019    0.999766   \n",
       "2        1        2        5   1.6         1       15    0.999884    0.999846   \n",
       "3       11        6        2   1.4         7        9    0.999941    0.999843   \n",
       "4        1        3        4   0.8        -2        4    1.000000    0.999692   \n",
       "\n",
       "   bid_spread  \n",
       "0    1.000155  \n",
       "1    1.000156  \n",
       "2    1.000232  \n",
       "3    1.000236  \n",
       "4    1.000154  \n",
       "\n",
       "[5 rows x 33 columns]"
      ]
     },
     "execution_count": 7,
     "metadata": {},
     "output_type": "execute_result"
    }
   ],
   "source": [
    "test.head()"
   ]
  },
  {
   "cell_type": "code",
   "execution_count": 8,
   "metadata": {},
   "outputs": [],
   "source": [
    "# train/val split\n",
    "train_x, val_x, train_y, val_y = train_test_split(\n",
    "    train.drop(['id', 'y'], axis=1).values, train['y'].values, test_size=0.2, random_state=42)\n",
    "\n",
    "# use all training data for final training\n",
    "final_train_x, final_train_y = train.drop(['id', 'y'], axis=1).values, train['y'].values\n",
    "test_x = test.drop(['id'], axis=1).values"
   ]
  },
  {
   "cell_type": "code",
   "execution_count": 9,
   "metadata": {},
   "outputs": [],
   "source": [
    "# feature scaling\n",
    "scaling = MinMaxScaler().fit(train_x)\n",
    "train_x = scaling.transform(train_x)\n",
    "#scaling = MinMaxScaler().fit(val_x)\n",
    "val_x = scaling.transform(val_x)"
   ]
  },
  {
   "cell_type": "code",
   "execution_count": 10,
   "metadata": {},
   "outputs": [],
   "source": [
    "#scaling = MinMaxScaler().fit(test_x)\n",
    "test_x = scaling.transform(test_x)\n",
    "\n",
    "#scaling = MinMaxScaler().fit(final_train_x)\n",
    "final_train_x = scaling.transform(final_train_x)"
   ]
  },
  {
   "cell_type": "markdown",
   "metadata": {},
   "source": [
    "## Ridge Regression"
   ]
  },
  {
   "cell_type": "code",
   "execution_count": 11,
   "metadata": {},
   "outputs": [],
   "source": [
    "alpha = np.geomspace(1, 1e4, 30)\n",
    "train_roc, val_roc = [], []\n",
    "train_mse, val_mse = [], []\n",
    "train_r2, val_r2 = [], []\n",
    "for a in alpha:\n",
    "    ridge = Ridge(alpha = a)\n",
    "    ridge.fit(train_x, train_y)\n",
    "    \n",
    "    val_roc.append(roc_auc_score(val_y, ridge.predict(val_x)))\n",
    "    train_roc.append(roc_auc_score(train_y, ridge.predict(train_x)))\n",
    "    \n",
    "    val_mse.append(mean_squared_error(val_y, ridge.predict(val_x)))\n",
    "    train_mse.append(mean_squared_error(train_y, ridge.predict(train_x)))\n",
    "    \n",
    "    val_r2.append(r2_score(val_y, ridge.predict(val_x)))\n",
    "    train_r2.append(r2_score(train_y, ridge.predict(train_x)))"
   ]
  },
  {
   "cell_type": "code",
   "execution_count": 12,
   "metadata": {},
   "outputs": [
    {
     "name": "stdout",
     "output_type": "stream",
     "text": [
      "1.0\n"
     ]
    },
    {
     "data": {
      "image/png": "[encoded data removed]",
      "text/plain": [
       "<Figure size 432x288 with 1 Axes>"
      ]
     },
     "metadata": {
      "needs_background": "light"
     },
     "output_type": "display_data"
    },
    {
     "data": {
      "image/png": "[encoded data removed]",
      "text/plain": [
       "<Figure size 432x288 with 1 Axes>"
      ]
     },
     "metadata": {
      "needs_background": "light"
     },
     "output_type": "display_data"
    },
    {
     "data": {
      "image/png": "[encoded data removed]",
      "text/plain": [
       "<Figure size 432x288 with 1 Axes>"
      ]
     },
     "metadata": {
      "needs_background": "light"
     },
     "output_type": "display_data"
    }
   ],
   "source": [
    "print(alpha[np.argmax(val_roc)])\n",
    "train_val_plot(alpha, train_roc, val_roc, 'AUC', savefig=True, figname='ridge_auc.png')\n",
    "train_val_plot(alpha, train_mse, val_mse, 'MSE', savefig=False, figname=None)\n",
    "train_val_plot(alpha, train_r2, val_r2, 'R2 Score', savefig=False, figname=None)"
   ]
  },
  {
   "cell_type": "code",
   "execution_count": 13,
   "metadata": {},
   "outputs": [
    {
     "data": {
      "text/plain": [
       "Index(['ask1vol', 'ask_spread', 'bid_spread', 'pot_vol', 'ask2vol', 'ask5vol',\n",
       "       'ask3vol', 'd_open_interest', 'ask4vol', 'bid1', 'mid', 'ask1', 'bid2',\n",
       "       'bid5', 'bid3', 'bid4', 'ask2', 'ask3', 'ask4', 'ask5', 'last_price',\n",
       "       'bid5vol', 'bid3vol', 'bid4vol', 'closed_position_qty',\n",
       "       'opened_position_qty ', 'transacted_qty', 'bid2vol', 'diff', 'bid1vol',\n",
       "       'diff_vol', 'frac_price'],\n",
       "      dtype='object')"
      ]
     },
     "execution_count": 13,
     "metadata": {},
     "output_type": "execute_result"
    }
   ],
   "source": [
    "train.drop(['id', 'y'], axis=1).columns[np.argsort(ridge.coef_)]"
   ]
  },
  {
   "cell_type": "code",
   "execution_count": 14,
   "metadata": {},
   "outputs": [],
   "source": [
    "def pred_to_csv(pred_y, test_x, name):\n",
    "    result = test_x['id']\n",
    "    result = result.to_frame()\n",
    "    result = pd.concat([result, pd.DataFrame(pred_y)], axis=1)\n",
    "    result.to_csv(name, index=False)"
   ]
  },
  {
   "cell_type": "code",
   "execution_count": 15,
   "metadata": {},
   "outputs": [],
   "source": [
    "ridge = Ridge(alpha = 1.0).fit(final_train_x, final_train_y)\n",
    "pred_y = ridge.predict(test_x)"
   ]
  },
  {
   "cell_type": "code",
   "execution_count": 16,
   "metadata": {},
   "outputs": [
    {
     "data": {
      "text/plain": [
       "0.6405446828602503"
      ]
     },
     "execution_count": 16,
     "metadata": {},
     "output_type": "execute_result"
    }
   ],
   "source": [
    "roc_auc_score(train_y, sigmoid(ridge.predict(train_x)))"
   ]
  },
  {
   "cell_type": "code",
   "execution_count": 17,
   "metadata": {},
   "outputs": [
    {
     "data": {
      "text/plain": [
       "0.2811738688185847"
      ]
     },
     "execution_count": 17,
     "metadata": {},
     "output_type": "execute_result"
    }
   ],
   "source": [
    "sigmoid(pred_y).min()"
   ]
  },
  {
   "cell_type": "code",
   "execution_count": 18,
   "metadata": {},
   "outputs": [
    {
     "data": {
      "image/png": "[encoded data removed]",
      "text/plain": [
       "<Figure size 432x288 with 1 Axes>"
      ]
     },
     "metadata": {
      "needs_background": "light"
     },
     "output_type": "display_data"
    }
   ],
   "source": [
    "plt.hist(sigmoid(pred_y), bins=30); plt.show()"
   ]
  },
  {
   "cell_type": "code",
   "execution_count": 19,
   "metadata": {},
   "outputs": [],
   "source": [
    "pred_to_csv(sigmoid(pred_y), test, 'results/ridge_submission.csv')"
   ]
  },
  {
   "cell_type": "markdown",
   "metadata": {},
   "source": [
    "## Logistic Regreession"
   ]
  },
  {
   "cell_type": "code",
   "execution_count": 20,
   "metadata": {},
   "outputs": [
    {
     "name": "stdout",
     "output_type": "stream",
     "text": [
      "1.0\n"
     ]
    },
    {
     "data": {
      "image/png": "[encoded data removed]",
      "text/plain": [
       "<Figure size 432x288 with 1 Axes>"
      ]
     },
     "metadata": {
      "needs_background": "light"
     },
     "output_type": "display_data"
    }
   ],
   "source": [
    "alpha = np.geomspace(1e-2, 1., 10)\n",
    "train_roc, val_roc = [], []\n",
    "for a in alpha:\n",
    "    clf = LogisticRegression(C=a, solver='sag', n_jobs=-1)\n",
    "    clf.fit(train_x, train_y)\n",
    "    \n",
    "    val_roc.append(roc_auc_score(val_y, clf.predict(val_x)))\n",
    "    train_roc.append(roc_auc_score(train_y, clf.predict(train_x)))\n",
    "print(alpha[np.argmax(val_roc)])\n",
    "train_val_plot(alpha, train_roc, val_roc, 'ROC', savefig=False, figname=None)"
   ]
  },
  {
   "cell_type": "code",
   "execution_count": 21,
   "metadata": {},
   "outputs": [],
   "source": [
    "clf = LogisticRegression(C=1, solver='saga').fit(final_train_x, final_train_y)"
   ]
  },
  {
   "cell_type": "code",
   "execution_count": 22,
   "metadata": {},
   "outputs": [
    {
     "data": {
      "text/plain": [
       "0.6425979180569055"
      ]
     },
     "execution_count": 22,
     "metadata": {},
     "output_type": "execute_result"
    }
   ],
   "source": [
    "pred_y = clf.predict_proba(val_x)[:, 1]\n",
    "roc_auc_score(val_y, pred_y)"
   ]
  },
  {
   "cell_type": "code",
   "execution_count": 23,
   "metadata": {},
   "outputs": [
    {
     "data": {
      "image/png": "[encoded data removed]",
      "text/plain": [
       "<Figure size 432x288 with 1 Axes>"
      ]
     },
     "metadata": {
      "needs_background": "light"
     },
     "output_type": "display_data"
    }
   ],
   "source": [
    "plt.hist(pred_y, bins=30); plt.show()"
   ]
  },
  {
   "cell_type": "markdown",
   "metadata": {},
   "source": [
    "## Random Forest"
   ]
  },
  {
   "cell_type": "code",
   "execution_count": 38,
   "metadata": {},
   "outputs": [
    {
     "name": "stdout",
     "output_type": "stream",
     "text": [
      "50\n",
      "100\n",
      "150\n",
      "200\n",
      "50\n"
     ]
    },
    {
     "data": {
      "image/png": "[encoded data removed]",
      "text/plain": [
       "<Figure size 432x288 with 1 Axes>"
      ]
     },
     "metadata": {
      "needs_background": "light"
     },
     "output_type": "display_data"
    }
   ],
   "source": [
    "from sklearn.ensemble import RandomForestRegressor\n",
    "n_estimators = 100\n",
    "alpha = np.arange(10, 60, 10)\n",
    "train_roc, val_roc = [], []\n",
    "for m in alpha:\n",
    "    print(m)\n",
    "    clf = RandomForestRegressor(n_estimators=n_estimators, min_samples_leaf=m, criterion='squared_error', n_jobs=-1)\n",
    "    clf.fit(train_x, train_y)\n",
    "    \n",
    "    val_roc.append(roc_auc_score(val_y, clf.predict(val_x)))\n",
    "    train_roc.append(roc_auc_score(train_y, clf.predict(train_x)))\n",
    "\n",
    "print(alpha[np.argmax(val_roc)])\n",
    "train_val_plot(alpha, train_roc, val_roc, 'ROC', savefig=False, figname=None)"
   ]
  },
  {
   "cell_type": "code",
   "execution_count": null,
   "metadata": {},
   "outputs": [],
   "source": [
    "clf = RandomForestRegressor(n_estimators=n_estimators, min_samples_leaf=1000, criterion='squared_error', n_jobs=-1)\n",
    "clf.fit(final_train_x, final_train_y)"
   ]
  },
  {
   "cell_type": "code",
   "execution_count": null,
   "metadata": {},
   "outputs": [],
   "source": [
    "pred_y = clf.predict(val_x)\n",
    "roc_auc_score(val_y, pred_y)"
   ]
  },
  {
   "cell_type": "code",
   "execution_count": null,
   "metadata": {},
   "outputs": [],
   "source": [
    "pred_y = clf.predict(test_x)\n",
    "pred_to_csv(pred_y, test, 'results/randomforest_submission2.csv')"
   ]
  },
  {
   "cell_type": "code",
   "execution_count": null,
   "metadata": {},
   "outputs": [],
   "source": [
    "plt.hist(pred_y, bins=30); plt.show()"
   ]
  }
 ],
 "metadata": {
  "kernelspec": {
   "display_name": "Python 3",
   "language": "python",
   "name": "python3"
  },
  "language_info": {
   "codemirror_mode": {
    "name": "ipython",
    "version": 3
   },
   "file_extension": ".py",
   "mimetype": "text/x-python",
   "name": "python",
   "nbconvert_exporter": "python",
   "pygments_lexer": "ipython3",
   "version": "3.9.8"
  }
 },
 "nbformat": 4,
 "nbformat_minor": 2
}
